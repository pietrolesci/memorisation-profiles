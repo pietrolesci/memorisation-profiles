{
 "cells": [
  {
   "cell_type": "code",
   "execution_count": 84,
   "metadata": {},
   "outputs": [],
   "source": [
    "from pathlib import Path\n",
    "from multipythias.dataset import GPT2Dataset, read_dataset\n",
    "from typing import Literal"
   ]
  },
  {
   "cell_type": "code",
   "execution_count": 116,
   "metadata": {},
   "outputs": [],
   "source": [
    "seed = 0\n",
    "\n",
    "def get_data(seed: int, split: Literal[\"train\", \"valid\", \"test\"]= \"train\") -> GPT2Dataset:\n",
    "    path = Path(f\"/mnt/ssd-2/pile_extra_seeds/seed{seed}\")\n",
    "    seed = seed if seed != 0 else 1234\n",
    "    \n",
    "    pattern = f\"*{split}*_doc_idx.npy\"\n",
    "    pattern = list(path.glob(pattern))[0].name.split(f\"_doc_idx\")[0]\n",
    "    \n",
    "    print(f\"Reading from {path}/{pattern}_{{doc,shuffle,sample}}_idx.npy\")\n",
    "    return read_dataset(path, pattern=pattern, document_path=path.parent)"
   ]
  },
  {
   "cell_type": "code",
   "execution_count": 118,
   "metadata": {},
   "outputs": [
    {
     "name": "stdout",
     "output_type": "stream",
     "text": [
      "Reading from /mnt/ssd-2/pile_extra_seeds/seed0/pile_20B_tokenizer_text_document_valid_0_indexmap_20583ns_2048sl_1234s_{doc,shuffle,sample}_idx.npy\n",
      "    reading sizes...\n",
      "    reading pointers...\n",
      "    reading document index...\n",
      "    creating numpy buffer of mmap...\n",
      "    creating memory view of numpy buffer...\n",
      "WARNING: self.shuffle_idx_len=162165685 != self.sample_idx_len=162165686\n",
      "Seq length == 2049\n",
      "Num batches == 158364.9267578125 (should be 143k)\n",
      "Reading from /mnt/ssd-2/pile_extra_seeds/seed0/pile_20B_tokenizer_text_document_train_0_indexmap_147164160ns_2048sl_1234s_{doc,shuffle,sample}_idx.npy\n",
      "    reading sizes...\n",
      "    reading pointers...\n",
      "    reading document index...\n",
      "    creating numpy buffer of mmap...\n",
      "    creating memory view of numpy buffer...\n",
      "WARNING: self.shuffle_idx_len=162165685 != self.sample_idx_len=162165686\n",
      "Seq length == 2049\n",
      "Num batches == 158364.9267578125 (should be 143k)\n"
     ]
    }
   ],
   "source": [
    "ds0 = get_data(0, \"valid\")\n",
    "ds1 = get_data(0, \"train\")\n"
   ]
  },
  {
   "cell_type": "code",
   "execution_count": 119,
   "metadata": {},
   "outputs": [
    {
     "data": {
      "text/plain": [
       "True"
      ]
     },
     "execution_count": 119,
     "metadata": {},
     "output_type": "execute_result"
    }
   ],
   "source": [
    "(ds0.indexed_dataset[0] == ds1.indexed_dataset[0]).all()"
   ]
  },
  {
   "cell_type": "code",
   "execution_count": 122,
   "metadata": {},
   "outputs": [
    {
     "name": "stdout",
     "output_type": "stream",
     "text": [
      "True\n",
      "True\n",
      "True\n"
     ]
    }
   ],
   "source": [
    "print((ds0.doc_idx[0] == ds1.doc_idx[0]).all())\n",
    "print((ds0.sample_idx[0] == ds1.sample_idx[0]).all())\n",
    "print((ds0.shuffle_idx[0] == ds1.shuffle_idx[0]).all())"
   ]
  },
  {
   "cell_type": "code",
   "execution_count": 30,
   "metadata": {},
   "outputs": [
    {
     "data": {
      "text/plain": [
       "memmap([  3, 212], dtype=int32)"
      ]
     },
     "execution_count": 30,
     "metadata": {},
     "output_type": "execute_result"
    }
   ],
   "source": [
    "ds0.sample_idx[1]"
   ]
  },
  {
   "cell_type": "code",
   "execution_count": 13,
   "metadata": {},
   "outputs": [
    {
     "data": {
      "text/plain": [
       "160893005"
      ]
     },
     "execution_count": 13,
     "metadata": {},
     "output_type": "execute_result"
    }
   ],
   "source": [
    "ds0.shuffle_idx[0]"
   ]
  },
  {
   "cell_type": "code",
   "execution_count": null,
   "metadata": {},
   "outputs": [],
   "source": []
  },
  {
   "cell_type": "code",
   "execution_count": null,
   "metadata": {},
   "outputs": [],
   "source": [
    "804M    ./seed6/pile_20B_tokenizer_text_document_train_0_indexmap_147164160ns_2048sl_6s_doc_idx.npy\n",
    "804M    ./seed6/pile_20B_tokenizer_text_document_valid_0_indexmap_20583ns_2048sl_6s_doc_idx.npy\n",
    "804M    ./seed6/pile_20B_tokenizer_text_document_test_0_indexmap_10292ns_2048sl_6s_doc_idx.npy\n",
    "\n",
    "619M    ./seed6/pile_20B_tokenizer_text_document_train_0_indexmap_147164160ns_2048sl_6s_shuffle_idx.npy\n",
    "619M    ./seed6/pile_20B_tokenizer_text_document_valid_0_indexmap_20583ns_2048sl_6s_shuffle_idx.npy\n",
    "619M    ./seed6/pile_20B_tokenizer_text_document_test_0_indexmap_10292ns_2048sl_6s_shuffle_idx.npy\n",
    "\n",
    "1.3G    ./seed6/pile_20B_tokenizer_text_document_train_0_indexmap_147164160ns_2048sl_6s_sample_idx.npy\n",
    "1.3G    ./seed6/pile_20B_tokenizer_text_document_valid_0_indexmap_20583ns_2048sl_6s_sample_idx.npy\n",
    "1.3G    ./seed6/pile_20B_tokenizer_text_document_test_0_indexmap_10292ns_2048sl_6s_sample_idx.npy"
   ]
  },
  {
   "cell_type": "code",
   "execution_count": null,
   "metadata": {},
   "outputs": [],
   "source": []
  },
  {
   "cell_type": "code",
   "execution_count": null,
   "metadata": {},
   "outputs": [],
   "source": [
    "len(ds)"
   ]
  },
  {
   "cell_type": "code",
   "execution_count": null,
   "metadata": {},
   "outputs": [],
   "source": [
    "ds[0]"
   ]
  },
  {
   "cell_type": "code",
   "execution_count": null,
   "metadata": {},
   "outputs": [],
   "source": [
    "ds.indexed_dataset[0]"
   ]
  },
  {
   "cell_type": "code",
   "execution_count": null,
   "metadata": {},
   "outputs": [],
   "source": [
    "ds.doc_idx.shape"
   ]
  },
  {
   "cell_type": "code",
   "execution_count": null,
   "metadata": {},
   "outputs": [],
   "source": []
  }
 ],
 "metadata": {
  "kernelspec": {
   "display_name": "memorisation",
   "language": "python",
   "name": "python3"
  },
  "language_info": {
   "codemirror_mode": {
    "name": "ipython",
    "version": 3
   },
   "file_extension": ".py",
   "mimetype": "text/x-python",
   "name": "python",
   "nbconvert_exporter": "python",
   "pygments_lexer": "ipython3",
   "version": "3.10.14"
  }
 },
 "nbformat": 4,
 "nbformat_minor": 2
}
